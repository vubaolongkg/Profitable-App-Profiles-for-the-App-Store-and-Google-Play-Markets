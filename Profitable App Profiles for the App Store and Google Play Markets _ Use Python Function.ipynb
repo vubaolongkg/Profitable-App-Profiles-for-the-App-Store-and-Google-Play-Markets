{
 "cells": [
  {
   "cell_type": "markdown",
   "id": "cd8441f7-d929-4a1b-8a56-746faaa48c4b",
   "metadata": {},
   "source": [
    "# Phân Tích Hồ Sơ Ứng Dụng Có Lợi Nhuận trên App Store và Google Play\n",
    "\n",
    "# _Profitable App Profiles for the App Store and Google Play Markets_\n",
    "\n",
    "_This project is to generate foundation for readers understanding the mean of dataset_\n",
    "\n",
    "## OPEN AND EXPLORE DATA"
   ]
  },
  {
   "cell_type": "code",
   "execution_count": 24,
   "id": "aed4a0bc-c7bf-4452-9861-fb3407ffda1b",
   "metadata": {},
   "outputs": [],
   "source": [
    "#Applestore\n",
    "opened_file_1 = open('AppleStore.csv', encoding='utf-8')\n",
    "\n",
    "from csv import reader\n",
    "read_file_1 = reader(opened_file_1)\n",
    "ios_apps = list(read_file_1)\n",
    "ios_header = ios_apps[0]\n",
    "ios_apps = ios_apps[1:]\n",
    "\n",
    "#Googlepplay store\n",
    "opened_file_2 = open('googleplaystore.csv', encoding='utf-8')\n",
    "\n",
    "from csv import reader\n",
    "read_file_2 = reader(opened_file_2)\n",
    "android_apps = list(read_file_2)\n",
    "android_header = android_apps[0]\n",
    "android_apps = android_apps[1:]"
   ]
  },
  {
   "cell_type": "code",
   "execution_count": 32,
   "id": "81264b3e-d9c2-4a6a-8bb9-a3f2910d2ffb",
   "metadata": {},
   "outputs": [
    {
     "name": "stdout",
     "output_type": "stream",
     "text": [
      "['App', 'Category', 'Rating', 'Reviews', 'Size', 'Installs', 'Type', 'Price', 'Content Rating', 'Genres', 'Last Updated', 'Current Ver', 'Android Ver']\n",
      "\n",
      "\n",
      "['Photo Editor & Candy Camera & Grid & ScrapBook', 'ART_AND_DESIGN', '4.1', '159', '19M', '10,000+', 'Free', '0', 'Everyone', 'Art & Design', 'January 7, 2018', '1.0.0', '4.0.3 and up']\n",
      "\n",
      "\n",
      "['Coloring book moana', 'ART_AND_DESIGN', '3.9', '967', '14M', '500,000+', 'Free', '0', 'Everyone', 'Art & Design;Pretend Play', 'January 15, 2018', '2.0.0', '4.0.3 and up']\n",
      "\n",
      "\n",
      "['U Launcher Lite – FREE Live Cool Themes, Hide Apps', 'ART_AND_DESIGN', '4.7', '87510', '8.7M', '5,000,000+', 'Free', '0', 'Everyone', 'Art & Design', 'August 1, 2018', '1.2.4', '4.0.3 and up']\n",
      "\n",
      "\n",
      "Number of rows: 10841\n",
      "Number of columns: 13\n"
     ]
    }
   ],
   "source": [
    "#Using Explore function:\n",
    "\n",
    "def explore_data(dataset, start, end, rows_and_columns=False):\n",
    "    dataset_slice = dataset[start:end]    \n",
    "    for row in dataset_slice:\n",
    "        print(row)\n",
    "        print('\\n') # adds a new (empty) line after each row\n",
    "\n",
    "    if rows_and_columns:\n",
    "        print('Number of rows:', len(dataset))\n",
    "        print('Number of columns:', len(dataset[0]))\n",
    "print(android_header)\n",
    "print('\\n')\n",
    "explore_data(android_apps, 0, 3, True)"
   ]
  },
  {
   "cell_type": "code",
   "execution_count": 34,
   "id": "b85b5d97-0b3c-4a19-9821-85ff0f6340c2",
   "metadata": {},
   "outputs": [
    {
     "name": "stdout",
     "output_type": "stream",
     "text": [
      "['Photo Editor & Candy Camera & Grid & ScrapBook', 'ART_AND_DESIGN', '4.1', '159', '19M', '10,000+', 'Free', '0', 'Everyone', 'Art & Design', 'January 7, 2018', '1.0.0', '4.0.3 and up']\n",
      "\n",
      "\n",
      "['App', 'Category', 'Rating', 'Reviews', 'Size', 'Installs', 'Type', 'Price', 'Content Rating', 'Genres', 'Last Updated', 'Current Ver', 'Android Ver']\n",
      "\n",
      "\n",
      "['Life Made WI-Fi Touchscreen Photo Frame', '1.9', '19', '3.0M', '1,000+', 'Free', '0', 'Everyone', '', 'February 11, 2018', '1.0.19', '4.0 and up']\n",
      "10841\n",
      "10840\n"
     ]
    }
   ],
   "source": [
    "#Print the incorrect row\n",
    "print(android_apps[0])\n",
    "print('\\n')\n",
    "print(android_header)\n",
    "print('\\n')\n",
    "print(android_apps[10472])\n",
    "\n",
    "#delete wrong data 10472\n",
    "print(len(android_apps))\n",
    "del android_apps[10472]\n",
    "print(len(android_apps))"
   ]
  },
  {
   "cell_type": "markdown",
   "id": "bc3b47c7-d125-49e5-8c34-a354a91c2af0",
   "metadata": {},
   "source": [
    "## REMOVING DUPLICATE APPS"
   ]
  },
  {
   "cell_type": "code",
   "execution_count": 36,
   "id": "22d95c3c-14ca-4d9f-8d7d-6bf89e95fa4d",
   "metadata": {},
   "outputs": [
    {
     "name": "stdout",
     "output_type": "stream",
     "text": [
      "['Facebook', 'SOCIAL', '4.1', '78158306', 'Varies with device', '1,000,000,000+', 'Free', '0', 'Teen', 'Social', 'August 3, 2018', 'Varies with device', 'Varies with device']\n",
      "['Facebook', 'SOCIAL', '4.1', '78128208', 'Varies with device', '1,000,000,000+', 'Free', '0', 'Teen', 'Social', 'August 3, 2018', 'Varies with device', 'Varies with device']\n",
      "Number of duplicate apps:  1181\n",
      "Example of duplicate apps:\n",
      "['Quick PDF Scanner + OCR FREE', 'Box', 'Google My Business', 'ZOOM Cloud Meetings', 'join.me - Simple Meetings']\n"
     ]
    }
   ],
   "source": [
    "#Part 1: we have some duplicate apps in this dataset\n",
    "for app in android_apps:\n",
    "    name = app[0]\n",
    "    if name == 'Facebook':\n",
    "        print(app)\n",
    "\n",
    "# Count the nummber of duplicate apps:\n",
    "duplicate_apps = []\n",
    "unique_apps = []\n",
    "for app in android_apps:\n",
    "    name = app[0]\n",
    "    if name in unique_apps:\n",
    "        duplicate_apps.append(name)\n",
    "    else:\n",
    "        unique_apps.append(name)\n",
    "print('Number of duplicate apps: ', len(duplicate_apps))\n",
    "print('Example of duplicate apps:')\n",
    "print(duplicate_apps[:5])\n",
    "#### So we cannot remove randomly row in dataset, I'll use a common rule: only keep the newest data"
   ]
  },
  {
   "cell_type": "code",
   "execution_count": 38,
   "id": "4a33e61b-4b16-45c4-baca-b0b385a690e1",
   "metadata": {},
   "outputs": [
    {
     "name": "stdout",
     "output_type": "stream",
     "text": [
      "9659\n",
      "9659\n"
     ]
    }
   ],
   "source": [
    "#Part 2: removing duplicate apps\n",
    "#Step 1:\n",
    "reviews_max = {}\n",
    "for app in android_apps:\n",
    "    name = app[0]\n",
    "    n_reviews = float(app[3])\n",
    "    if name in reviews_max and reviews_max[name] < n_reviews:\n",
    "        reviews_max[name] = n_reviews\n",
    "    elif name not in reviews_max:\n",
    "        reviews_max[name] = n_reviews\n",
    "\n",
    "#Step 2:\n",
    "android_clean = []\n",
    "already_added = []\n",
    "for app in android_apps:\n",
    "    name = app[0]\n",
    "    n_reviews = float(app[3])\n",
    "    if (n_reviews == reviews_max[name]) and (name not in already_added):\n",
    "            android_clean.append(app) \n",
    "            already_added.append(name)\n",
    "print(len(android_clean))\n",
    "print(len(reviews_max))"
   ]
  },
  {
   "cell_type": "markdown",
   "id": "475f99a9-3465-4ee3-9653-7061ad9c1503",
   "metadata": {},
   "source": [
    "## REMOVE NON ENGLISH APPS"
   ]
  },
  {
   "cell_type": "code",
   "execution_count": 42,
   "id": "27a0ab68-c585-4e53-9037-6028312677d1",
   "metadata": {},
   "outputs": [
    {
     "name": "stdout",
     "output_type": "stream",
     "text": [
      "True\n",
      "False\n",
      "True\n",
      "True\n",
      "[['Flame - درب عقلك يوميا', 'EDUCATION', '4.6', '56065', '37M', '1,000,000+', 'Free', '0', 'Everyone', 'Education', 'July 26, 2018', '3.3', '4.1 and up'], ['သိင်္ Astrology - Min Thein Kha BayDin', 'LIFESTYLE', '4.7', '2225', '15M', '100,000+', 'Free', '0', 'Everyone', 'Lifestyle', 'July 26, 2018', '4.2.1', '4.0.3 and up']]\n",
      "9614\n",
      "6183\n"
     ]
    }
   ],
   "source": [
    "#Generate new function:\n",
    "def check_ea(string):\n",
    "    count = 0\n",
    "    for character in string:\n",
    "        \n",
    "        if ord(character) > 127:\n",
    "            count += 1\n",
    "    if count > 3:\n",
    "        return False\n",
    "    else:\n",
    "        return True\n",
    "        \n",
    "#Checking:\n",
    "print(check_ea('Instagram'))\n",
    "print(check_ea('爱奇艺PPS -《欢乐颂2》电视剧热播'))\n",
    "print(check_ea('Docs To Go™ Free Office Suite'))\n",
    "print(check_ea('Instachat 😜'))\n",
    "\n",
    "#Checking both dataset:\n",
    "English_apps = []\n",
    "Non_English_apps = []\n",
    "for app in android_clean:\n",
    "    name = app [0]\n",
    "    if check_ea(name) == True:\n",
    "        English_apps.append(app)\n",
    "    else:\n",
    "        Non_English_apps.append(app)\n",
    "print(Non_English_apps[:2])\n",
    "print(len(English_apps))\n",
    "\n",
    "ios_english_apps = []\n",
    "non_ios_english_apps = []\n",
    "for app in ios_apps:\n",
    "    name = app[1]\n",
    "    if check_ea(name) == True:\n",
    "        ios_english_apps.append(app)\n",
    "    else:\n",
    "        non_ios_english_apps.append(app)\n",
    "print(len(ios_english_apps))"
   ]
  },
  {
   "cell_type": "markdown",
   "id": "2ff7c0a7-d440-4194-8ca5-3cb0f1ba8c41",
   "metadata": {},
   "source": [
    "## ISOLATING FREE APPS"
   ]
  },
  {
   "cell_type": "code",
   "execution_count": 51,
   "id": "e2bda01f-fe88-46fd-a824-f7fb2ac75d7c",
   "metadata": {},
   "outputs": [
    {
     "name": "stdout",
     "output_type": "stream",
     "text": [
      "8864\n",
      "3222\n"
     ]
    }
   ],
   "source": [
    "android_final = []\n",
    "for app in English_apps:\n",
    "    if app[7] == '0':\n",
    "        android_final.append(app)\n",
    "print(len(android_final))\n",
    "\n",
    "ios_final = []\n",
    "for app in ios_english_apps:\n",
    "    if app[4] == '0.0':\n",
    "        ios_final.append(app)\n",
    "print(len(ios_final))"
   ]
  },
  {
   "cell_type": "markdown",
   "id": "158e5413-b2b1-4e32-88b0-f75af95c56ba",
   "metadata": {},
   "source": [
    "## DETERMINING COMMON APPS\n",
    "As we mentioned in the introduction, our goal is to determine the kinds of apps that are likely to attract more users because the number of people using our apps affect our revenue.\n",
    "\n",
    "To minimize risks and overhead, our validation strategy for an app idea has three steps:\n",
    "\n",
    "- Build a minimal Android version of the app, and add it to Google Play.\n",
    "- If the app has a good response from users, we develop it further.\n",
    "- If the app is profitable after six months, we build an iOS version of the app and add it to the App Store.\n",
    "Because our end goal is to add the app on both Google Play and the App Store, we need to find app profiles that are successful in both markets. For instance, a profile that works well for both markets might be a productivity app that makes use of gamification.\n",
    "\n",
    "Let's begin the analysis by determining the most common genres for each market. For this, we'll need to build frequency tables for 'Category' and 'Genres' on android_final ,and 'prime_genre' on ios_final"
   ]
  },
  {
   "cell_type": "code",
   "execution_count": 54,
   "id": "db2b7818-b529-493c-bf33-dc8a9763478d",
   "metadata": {},
   "outputs": [
    {
     "name": "stdout",
     "output_type": "stream",
     "text": [
      "['App', 'Category', 'Rating', 'Reviews', 'Size', 'Installs', 'Type', 'Price', 'Content Rating', 'Genres', 'Last Updated', 'Current Ver', 'Android Ver']\n",
      "['Photo Editor & Candy Camera & Grid & ScrapBook', 'ART_AND_DESIGN', '4.1', '159', '19M', '10,000+', 'Free', '0', 'Everyone', 'Art & Design', 'January 7, 2018', '1.0.0', '4.0.3 and up']\n",
      "\n",
      "\n",
      "['id', 'track_name', 'size_bytes', 'currency', 'price', 'rating_count_tot', 'rating_count_ver', 'user_rating', 'user_rating_ver', 'ver', 'cont_rating', 'prime_genre', 'sup_devices.num', 'ipadSc_urls.num', 'lang.num', 'vpp_lic']\n",
      "['284882215', 'Facebook', '389879808', 'USD', '0.0', '2974676', '212', '3.5', '3.5', '95.0', '4+', 'Social Networking', '37', '1', '29', '1']\n"
     ]
    }
   ],
   "source": [
    "print(android_header)\n",
    "print(android_final[0])\n",
    "print('\\n')\n",
    "print(ios_header)\n",
    "print(ios_final[0])"
   ]
  },
  {
   "cell_type": "code",
   "execution_count": 56,
   "id": "9a1f4cbf-281d-4071-a550-b3d3f488d8ce",
   "metadata": {},
   "outputs": [],
   "source": [
    "def freq_table(dataset, index):\n",
    "    freqtable = {}\n",
    "    total = 0\n",
    "    freqtable_percent = {}\n",
    "    for app in dataset:\n",
    "        total += 1\n",
    "        name = app[index]\n",
    "        if name in freqtable:\n",
    "            freqtable[name] += 1\n",
    "        else:\n",
    "            freqtable[name] = 1\n",
    "    for name in freqtable:\n",
    "        freqtable_percent[name] = round((freqtable[name]/total) * 100, 2) \n",
    "    return freqtable_percent\n",
    "def display_table(dataset, index):\n",
    "    table = freq_table(dataset, index)\n",
    "    table_display = []\n",
    "    for key in table:\n",
    "        key_val_as_tuple = (table[key], key)\n",
    "        table_display.append(key_val_as_tuple)\n",
    "\n",
    "    table_sorted = sorted(table_display, reverse = True)\n",
    "    for entry in table_sorted:\n",
    "        print(entry[1], ':', entry[0])"
   ]
  },
  {
   "cell_type": "markdown",
   "id": "79dc0024-11d2-497a-9f14-e4a712b65b81",
   "metadata": {},
   "source": [
    "### Common apps on IOS"
   ]
  },
  {
   "cell_type": "code",
   "execution_count": 61,
   "id": "9974b293-a81a-4f00-879c-e63b16f88a70",
   "metadata": {},
   "outputs": [
    {
     "name": "stdout",
     "output_type": "stream",
     "text": [
      "Games : 58.16\n",
      "Entertainment : 7.88\n",
      "Photo & Video : 4.97\n",
      "Education : 3.66\n",
      "Social Networking : 3.29\n",
      "Shopping : 2.61\n",
      "Utilities : 2.51\n",
      "Sports : 2.14\n",
      "Music : 2.05\n",
      "Health & Fitness : 2.02\n",
      "Productivity : 1.74\n",
      "Lifestyle : 1.58\n",
      "News : 1.33\n",
      "Travel : 1.24\n",
      "Finance : 1.12\n",
      "Weather : 0.87\n",
      "Food & Drink : 0.81\n",
      "Reference : 0.56\n",
      "Business : 0.53\n",
      "Book : 0.43\n",
      "Navigation : 0.19\n",
      "Medical : 0.19\n",
      "Catalogs : 0.12\n"
     ]
    }
   ],
   "source": [
    "display_table(ios_final, -5)"
   ]
  },
  {
   "cell_type": "markdown",
   "id": "f155fdf4-4ff7-4cd7-8569-0a301e612086",
   "metadata": {},
   "source": [
    "- Most common genre: Games (58.16%), followed by Entertainment (7.88%).\n",
    "- Pattern: Entertainment-focused apps dominate, while practical apps (education, shopping, utilities) - are fewer.\n",
    "- General impression: The App Store market is largely geared towards entertainment rather than practical use.\n",
    "- Recommendation: A gaming or entertainment app could succeed but faces high competition. Exploring niche categories like health & fitness or education might offer growth with less competition.\n",
    "- App frequency vs. user base: A large number of apps in a genre doesn’t guarantee a large user base, but rather reflects a competitive market. Niche categories may have untapped potential."
   ]
  },
  {
   "cell_type": "markdown",
   "id": "05fcad94-5d5c-4d64-b416-d3308e2821e1",
   "metadata": {},
   "source": [
    "### Common apps on Android"
   ]
  },
  {
   "cell_type": "code",
   "execution_count": 70,
   "id": "3279839d-480f-480e-abbf-64770d703f40",
   "metadata": {},
   "outputs": [
    {
     "name": "stdout",
     "output_type": "stream",
     "text": [
      "FAMILY : 18.91\n",
      "GAME : 9.72\n",
      "TOOLS : 8.46\n",
      "BUSINESS : 4.59\n",
      "LIFESTYLE : 3.9\n",
      "PRODUCTIVITY : 3.89\n",
      "FINANCE : 3.7\n",
      "MEDICAL : 3.53\n",
      "SPORTS : 3.4\n",
      "PERSONALIZATION : 3.32\n",
      "COMMUNICATION : 3.24\n",
      "HEALTH_AND_FITNESS : 3.08\n",
      "PHOTOGRAPHY : 2.94\n",
      "NEWS_AND_MAGAZINES : 2.8\n",
      "SOCIAL : 2.66\n",
      "TRAVEL_AND_LOCAL : 2.34\n",
      "SHOPPING : 2.25\n",
      "BOOKS_AND_REFERENCE : 2.14\n",
      "DATING : 1.86\n",
      "VIDEO_PLAYERS : 1.79\n",
      "MAPS_AND_NAVIGATION : 1.4\n",
      "FOOD_AND_DRINK : 1.24\n",
      "EDUCATION : 1.16\n",
      "ENTERTAINMENT : 0.96\n",
      "LIBRARIES_AND_DEMO : 0.94\n",
      "AUTO_AND_VEHICLES : 0.93\n",
      "HOUSE_AND_HOME : 0.82\n",
      "WEATHER : 0.8\n",
      "EVENTS : 0.71\n",
      "PARENTING : 0.65\n",
      "ART_AND_DESIGN : 0.64\n",
      "COMICS : 0.62\n",
      "BEAUTY : 0.6\n"
     ]
    }
   ],
   "source": [
    "display_table(android_final, 1) # Category"
   ]
  },
  {
   "cell_type": "markdown",
   "id": "1d16e5fd-3a3f-4741-a09c-02c9b182b552",
   "metadata": {},
   "source": [
    "Following by Category\n",
    "- Most common genres on Google Play: Family (18.91%), Game (9.72%), Tools (8.46%).\n",
    "- Patterns: Google Play focuses more on practical apps (family, tools, business) compared to the App Store, which is dominated by entertainment, especially games.\n",
    "- Comparison: Google Play has more diversity and utility-based apps, while the App Store is entertainment-centric.\n",
    "- App profile recommendation: For Google Play, a Family or Tools app would align with the largest categories. For the App Store, gaming or entertainment apps fit the market but face high competition.\n",
    "- Frequency vs. users: High app frequency in a genre suggests competition, not necessarily a large user base. Niche categories may offer growth with less competition."
   ]
  },
  {
   "cell_type": "code",
   "execution_count": 76,
   "id": "9e641611-7d9b-4376-90db-be69c5b1f547",
   "metadata": {},
   "outputs": [
    {
     "name": "stdout",
     "output_type": "stream",
     "text": [
      "Tools : 8.45\n",
      "Entertainment : 6.07\n",
      "Education : 5.35\n",
      "Business : 4.59\n",
      "Productivity : 3.89\n",
      "Lifestyle : 3.89\n",
      "Finance : 3.7\n",
      "Medical : 3.53\n",
      "Sports : 3.46\n",
      "Personalization : 3.32\n",
      "Communication : 3.24\n",
      "Action : 3.1\n",
      "Health & Fitness : 3.08\n",
      "Photography : 2.94\n",
      "News & Magazines : 2.8\n",
      "Social : 2.66\n",
      "Travel & Local : 2.32\n",
      "Shopping : 2.25\n",
      "Books & Reference : 2.14\n",
      "Simulation : 2.04\n",
      "Dating : 1.86\n",
      "Arcade : 1.85\n",
      "Video Players & Editors : 1.77\n",
      "Casual : 1.76\n",
      "Maps & Navigation : 1.4\n",
      "Food & Drink : 1.24\n",
      "Puzzle : 1.13\n",
      "Racing : 0.99\n",
      "Role Playing : 0.94\n",
      "Libraries & Demo : 0.94\n",
      "Auto & Vehicles : 0.93\n",
      "Strategy : 0.91\n",
      "House & Home : 0.82\n",
      "Weather : 0.8\n",
      "Events : 0.71\n",
      "Adventure : 0.68\n",
      "Comics : 0.61\n",
      "Beauty : 0.6\n",
      "Art & Design : 0.6\n",
      "Parenting : 0.5\n",
      "Card : 0.45\n",
      "Casino : 0.43\n",
      "Trivia : 0.42\n",
      "Educational;Education : 0.39\n",
      "Board : 0.38\n",
      "Educational : 0.37\n",
      "Education;Education : 0.34\n",
      "Word : 0.26\n",
      "Casual;Pretend Play : 0.24\n",
      "Music : 0.2\n",
      "Racing;Action & Adventure : 0.17\n",
      "Puzzle;Brain Games : 0.17\n",
      "Entertainment;Music & Video : 0.17\n",
      "Casual;Brain Games : 0.14\n",
      "Casual;Action & Adventure : 0.14\n",
      "Arcade;Action & Adventure : 0.12\n",
      "Action;Action & Adventure : 0.1\n",
      "Educational;Pretend Play : 0.09\n",
      "Simulation;Action & Adventure : 0.08\n",
      "Parenting;Education : 0.08\n",
      "Entertainment;Brain Games : 0.08\n",
      "Board;Brain Games : 0.08\n",
      "Parenting;Music & Video : 0.07\n",
      "Educational;Brain Games : 0.07\n",
      "Casual;Creativity : 0.07\n",
      "Art & Design;Creativity : 0.07\n",
      "Education;Pretend Play : 0.06\n",
      "Role Playing;Pretend Play : 0.05\n",
      "Education;Creativity : 0.05\n",
      "Role Playing;Action & Adventure : 0.03\n",
      "Puzzle;Action & Adventure : 0.03\n",
      "Entertainment;Creativity : 0.03\n",
      "Entertainment;Action & Adventure : 0.03\n",
      "Educational;Creativity : 0.03\n",
      "Educational;Action & Adventure : 0.03\n",
      "Education;Music & Video : 0.03\n",
      "Education;Brain Games : 0.03\n",
      "Education;Action & Adventure : 0.03\n",
      "Adventure;Action & Adventure : 0.03\n",
      "Video Players & Editors;Music & Video : 0.02\n",
      "Sports;Action & Adventure : 0.02\n",
      "Simulation;Pretend Play : 0.02\n",
      "Puzzle;Creativity : 0.02\n",
      "Music;Music & Video : 0.02\n",
      "Entertainment;Pretend Play : 0.02\n",
      "Casual;Education : 0.02\n",
      "Board;Action & Adventure : 0.02\n",
      "Video Players & Editors;Creativity : 0.01\n",
      "Trivia;Education : 0.01\n",
      "Travel & Local;Action & Adventure : 0.01\n",
      "Tools;Education : 0.01\n",
      "Strategy;Education : 0.01\n",
      "Strategy;Creativity : 0.01\n",
      "Strategy;Action & Adventure : 0.01\n",
      "Simulation;Education : 0.01\n",
      "Role Playing;Brain Games : 0.01\n",
      "Racing;Pretend Play : 0.01\n",
      "Puzzle;Education : 0.01\n",
      "Parenting;Brain Games : 0.01\n",
      "Music & Audio;Music & Video : 0.01\n",
      "Lifestyle;Pretend Play : 0.01\n",
      "Lifestyle;Education : 0.01\n",
      "Health & Fitness;Education : 0.01\n",
      "Health & Fitness;Action & Adventure : 0.01\n",
      "Entertainment;Education : 0.01\n",
      "Communication;Creativity : 0.01\n",
      "Comics;Creativity : 0.01\n",
      "Casual;Music & Video : 0.01\n",
      "Card;Action & Adventure : 0.01\n",
      "Books & Reference;Education : 0.01\n",
      "Art & Design;Pretend Play : 0.01\n",
      "Art & Design;Action & Adventure : 0.01\n",
      "Arcade;Pretend Play : 0.01\n",
      "Adventure;Education : 0.01\n"
     ]
    }
   ],
   "source": [
    "display_table(android_final, -4) #Genres"
   ]
  },
  {
   "cell_type": "markdown",
   "id": "46214712-a16f-4936-a7b7-980ff4bd3809",
   "metadata": {},
   "source": [
    "When we observe types of apps on GG play sorted by Genres, a bigger picture is provided with various details\n",
    "=> Tools, entertainment, education, business are still the most popular apps, but this data can be useful when we combine them with data sorted by Catergory.\n",
    "=> We can use genres to determine more detail for category."
   ]
  },
  {
   "cell_type": "code",
   "execution_count": 81,
   "id": "2e759625-2ea4-453f-b049-276f90282418",
   "metadata": {},
   "outputs": [
    {
     "name": "stdout",
     "output_type": "stream",
     "text": [
      "Social Networking : 71548.34905660378\n",
      "Photo & Video : 28441.54375\n",
      "Games : 22788.6696905016\n",
      "Music : 57326.530303030304\n",
      "Reference : 74942.11111111111\n",
      "Health & Fitness : 23298.015384615384\n",
      "Weather : 52279.892857142855\n",
      "Utilities : 18684.456790123455\n",
      "Travel : 28243.8\n",
      "Shopping : 26919.690476190477\n",
      "News : 21248.023255813954\n",
      "Navigation : 86090.33333333333\n",
      "Lifestyle : 16485.764705882353\n",
      "Entertainment : 14029.830708661417\n",
      "Food & Drink : 33333.92307692308\n",
      "Sports : 23008.898550724636\n",
      "Book : 39758.5\n",
      "Finance : 31467.944444444445\n",
      "Education : 7003.983050847458\n",
      "Productivity : 21028.410714285714\n",
      "Business : 7491.117647058823\n",
      "Catalogs : 4004.0\n",
      "Medical : 612.0\n"
     ]
    }
   ],
   "source": [
    "freq_genre = freq_table(ios_final, -5)\n",
    "for genre in freq_genre:\n",
    "    total = 0\n",
    "    len_genre = 0\n",
    "    for app in ios_final:\n",
    "        genre_app = app[-5]\n",
    "        if genre_app == genre:\n",
    "            total += float(app[5])\n",
    "            len_genre += 1\n",
    "    average = total/len_genre\n",
    "    print(genre, ':', average)"
   ]
  },
  {
   "cell_type": "markdown",
   "id": "375f5a11-38d5-4788-97d3-a687023acc27",
   "metadata": {},
   "source": [
    "## A frequency table for the Category column of the Google Play"
   ]
  },
  {
   "cell_type": "code",
   "execution_count": 85,
   "id": "475462ff-566c-40b1-8a95-652d5c0bd4f9",
   "metadata": {},
   "outputs": [
    {
     "name": "stdout",
     "output_type": "stream",
     "text": [
      "ART_AND_DESIGN : 1986335.0877192982\n",
      "AUTO_AND_VEHICLES : 647317.8170731707\n",
      "BEAUTY : 513151.88679245283\n",
      "BOOKS_AND_REFERENCE : 8767811.894736841\n",
      "BUSINESS : 1712290.1474201474\n",
      "COMICS : 817657.2727272727\n",
      "COMMUNICATION : 38456119.167247385\n",
      "DATING : 854028.8303030303\n",
      "EDUCATION : 1833495.145631068\n",
      "ENTERTAINMENT : 11640705.88235294\n",
      "EVENTS : 253542.22222222222\n",
      "FINANCE : 1387692.475609756\n",
      "FOOD_AND_DRINK : 1924897.7363636363\n",
      "HEALTH_AND_FITNESS : 4188821.9853479853\n",
      "HOUSE_AND_HOME : 1331540.5616438356\n",
      "LIBRARIES_AND_DEMO : 638503.734939759\n",
      "LIFESTYLE : 1437816.2687861272\n",
      "GAME : 15588015.603248259\n",
      "FAMILY : 3695641.8198090694\n",
      "MEDICAL : 120550.61980830671\n",
      "SOCIAL : 23253652.127118643\n",
      "SHOPPING : 7036877.311557789\n",
      "PHOTOGRAPHY : 17840110.40229885\n",
      "SPORTS : 3638640.1428571427\n",
      "TRAVEL_AND_LOCAL : 13984077.710144928\n",
      "TOOLS : 10801391.298666667\n",
      "PERSONALIZATION : 5201482.6122448975\n",
      "PRODUCTIVITY : 16787331.344927534\n",
      "PARENTING : 542603.6206896552\n",
      "WEATHER : 5074486.197183099\n",
      "VIDEO_PLAYERS : 24727872.452830188\n",
      "NEWS_AND_MAGAZINES : 9549178.467741935\n",
      "MAPS_AND_NAVIGATION : 4056941.7741935486\n"
     ]
    }
   ],
   "source": [
    "freqtable_category = freq_table(android_final, 1)\n",
    "for category in freqtable_category:\n",
    "    total = 0\n",
    "    len_category = 0\n",
    "    for app in android_final:\n",
    "        category_app = app[1]\n",
    "        if category_app == category:\n",
    "            install = app[5]\n",
    "            remove_1 = install.replace('+', '')\n",
    "            remove_2 = remove_1.replace(',', '')\n",
    "            total += float(remove_2)\n",
    "            len_category += 1\n",
    "    average_gg = total/len_category\n",
    "    print(category, ':', average_gg)"
   ]
  },
  {
   "cell_type": "markdown",
   "id": "48d17681-1eb9-46ad-a967-ee342cea97a8",
   "metadata": {},
   "source": [
    "Communication have around 38m users, the highest number of installs. Nervertheless, this field are obsersing highly competition from big firm: FB, GG, X,..."
   ]
  },
  {
   "cell_type": "code",
   "execution_count": 91,
   "id": "674af8ce-eca5-481a-ae5a-06bea32d4837",
   "metadata": {},
   "outputs": [
    {
     "name": "stdout",
     "output_type": "stream",
     "text": [
      "WhatsApp Messenger : 1,000,000,000+\n",
      "imo beta free calls and text : 100,000,000+\n",
      "Android Messages : 100,000,000+\n",
      "Google Duo - High Quality Video Calls : 500,000,000+\n",
      "Messenger – Text and Video Chat for Free : 1,000,000,000+\n",
      "imo free video calls and chat : 500,000,000+\n",
      "Skype - free IM & video calls : 1,000,000,000+\n",
      "Who : 100,000,000+\n",
      "GO SMS Pro - Messenger, Free Themes, Emoji : 100,000,000+\n",
      "LINE: Free Calls & Messages : 500,000,000+\n",
      "Google Chrome: Fast & Secure : 1,000,000,000+\n",
      "Firefox Browser fast & private : 100,000,000+\n",
      "UC Browser - Fast Download Private & Secure : 500,000,000+\n",
      "Gmail : 1,000,000,000+\n",
      "Hangouts : 1,000,000,000+\n",
      "Messenger Lite: Free Calls & Messages : 100,000,000+\n",
      "Kik : 100,000,000+\n",
      "KakaoTalk: Free Calls & Text : 100,000,000+\n",
      "Opera Mini - fast web browser : 100,000,000+\n",
      "Opera Browser: Fast and Secure : 100,000,000+\n",
      "Telegram : 100,000,000+\n",
      "Truecaller: Caller ID, SMS spam blocking & Dialer : 100,000,000+\n",
      "UC Browser Mini -Tiny Fast Private & Secure : 100,000,000+\n",
      "Viber Messenger : 500,000,000+\n",
      "WeChat : 100,000,000+\n",
      "Yahoo Mail – Stay Organized : 100,000,000+\n",
      "BBM - Free Calls & Messages : 100,000,000+\n"
     ]
    }
   ],
   "source": [
    "for app in android_final:\n",
    "    if app[1] == 'COMMUNICATION' and (app[5] == '1,000,000,000+'\n",
    "                                      or app[5] == '500,000,000+'\n",
    "                                      or app[5] == '100,000,000+'):\n",
    "        print(app[0], ':', app[5])"
   ]
  },
  {
   "cell_type": "markdown",
   "id": "cd96dca4-a980-4070-8ccb-9f27bd87dc92",
   "metadata": {},
   "source": [
    "We can see, each apps in this list serving their own duty and basing on local market, we can know that whether it is protential thriving or not.\n",
    "For example, WhatsApp is very popular with 1m user, but in VN this app is quite not common, peopl"
   ]
  },
  {
   "cell_type": "code",
   "execution_count": null,
   "id": "40f00f5b-a6e9-4afc-806b-ab1d02891e5a",
   "metadata": {},
   "outputs": [],
   "source": []
  }
 ],
 "metadata": {
  "kernelspec": {
   "display_name": "Python 3 (ipykernel)",
   "language": "python",
   "name": "python3"
  },
  "language_info": {
   "codemirror_mode": {
    "name": "ipython",
    "version": 3
   },
   "file_extension": ".py",
   "mimetype": "text/x-python",
   "name": "python",
   "nbconvert_exporter": "python",
   "pygments_lexer": "ipython3",
   "version": "3.12.7"
  }
 },
 "nbformat": 4,
 "nbformat_minor": 5
}
